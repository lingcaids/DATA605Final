{
 "cells": [
  {
   "cell_type": "markdown",
   "metadata": {},
   "source": [
    "# DATA605 Final Project                                                                      \n",
    "### Ling Cai\n"
   ]
  },
  {
   "cell_type": "markdown",
   "metadata": {},
   "source": [
    "## About This File: \n",
    "\n",
    "###### Two different tools were used in this study.  Python Jupyter Notebook was used to cleaning and setting up the dataframe, with some visualization. Tableau was used for visualization only.  In this file, the Tableau images are embedded in the file. "
   ]
  },
  {
   "cell_type": "markdown",
   "metadata": {},
   "source": [
    "## About The Project: \n",
    "\n",
    "##### To this date, some students are still under the mind set that academic test score means everything. The purpose of this study is to drill down to a few variables, to determine their effectiveness and their impacts. "
   ]
  },
  {
   "cell_type": "code",
   "execution_count": 106,
   "metadata": {},
   "outputs": [
    {
     "data": {
      "text/html": [
       "<script>\n",
       "code_show=true; \n",
       "function code_toggle() {\n",
       " if (code_show){\n",
       " $('div.input').hide();\n",
       " } else {\n",
       " $('div.input').show();\n",
       " }\n",
       " code_show = !code_show\n",
       "} \n",
       "$( document ).ready(code_toggle);\n",
       "</script>\n",
       "The raw code for this IPython notebook is by default hidden for easier reading.\n",
       "To toggle on/off the raw code, click <a href=\"javascript:code_toggle()\">here</a>."
      ],
      "text/plain": [
       "<IPython.core.display.HTML object>"
      ]
     },
     "execution_count": 106,
     "metadata": {},
     "output_type": "execute_result"
    }
   ],
   "source": [
    "from IPython.display import HTML\n",
    "\n",
    "HTML('''<script>\n",
    "code_show=true; \n",
    "function code_toggle() {\n",
    " if (code_show){\n",
    " $('div.input').hide();\n",
    " } else {\n",
    " $('div.input').show();\n",
    " }\n",
    " code_show = !code_show\n",
    "} \n",
    "$( document ).ready(code_toggle);\n",
    "</script>\n",
    "The raw code for this IPython notebook is by default hidden for easier reading.\n",
    "To toggle on/off the raw code, click <a href=\"javascript:code_toggle()\">here</a>.''')"
   ]
  },
  {
   "cell_type": "code",
   "execution_count": 107,
   "metadata": {},
   "outputs": [],
   "source": [
    "import numpy as np\n",
    "import scipy as sp\n",
    "import scipy.spatial.distance as spd\n",
    "import scipy.cluster.hierarchy as sph\n",
    "import sklearn as sk\n",
    "import sklearn.metrics as skm\n",
    "import sklearn.cluster as skc\n",
    "import sklearn.decomposition as skd\n",
    "import sklearn.mixture as skmix\n",
    "import pandas as pd\n",
    "import matplotlib.pyplot as plt\n",
    "%matplotlib inline\n",
    "import seaborn as sns\n",
    "sns.set(style='white', color_codes=True, font_scale=1.3)\n",
    "\n",
    "from sklearn.neighbors import KNeighborsClassifier\n",
    "from sklearn.naive_bayes import GaussianNB"
   ]
  },
  {
   "cell_type": "markdown",
   "metadata": {},
   "source": [
    "## 1. Set up the Data Frame"
   ]
  },
  {
   "cell_type": "markdown",
   "metadata": {},
   "source": [
    "There are two data files used in this analysis. Both files are published by IPEDS (The Integrated Postsecondary Education Data System) in the U.S. The first files contains 2281 rows of data, each row represents a college. There are many variables, i.e. number of applicant, number of admission, number of enrollment, Calculated SAT CR Mean, Calculate SAT M Mean, etc. Some variables are not suited for the purpose of the study, therefore not used. The second file contains the graduation rate only. Both files contains some missing data of the useful variables. Data cleaning was done to 1. delete the un-necessary variables, 2. join the two tables, 3. delete the rows with null values in needed variable columns. "
   ]
  },
  {
   "cell_type": "code",
   "execution_count": 108,
   "metadata": {},
   "outputs": [],
   "source": [
    "# Import the first file. This is the main file. \n",
    "\n",
    "xls_file1 = pd.ExcelFile('ipeds original.xlsx')\n",
    "df_ipeds_original = xls_file1.parse('Smaller file')\n",
    "# df_ipeds_original = pd.read_excel('ipeds.xlsx', sheetname = 'Smaller file') # Alternatively you can use this line.\n",
    "# df_ipeds_original.head(1) \n",
    "\n",
    "# Drop some un-necessary columns\n",
    "df_ipeds_temp = df_ipeds_original.drop([ 'year','Calculated SAT CR Mean', 'Calculated SAT M Mean', 'Estimated enrollment, total', 'Estimated undergraduate enrollment, total', 'Estimated first-time degree/certificate-seeking undergraduate enrollment, total', 'Estimated graduate enrollment, total', 'Admissions yield  (percent of admitted freshmen enrolling)'\n",
    "], axis=1)\n",
    "\n",
    "# The regular .head() code does not display all the columns. Therefore use the line below. \n",
    "# for col in df_ipeds_temp.columns:\n",
    "#     print(col)\n",
    "#     print(col + \": \" + str(df_ipeds_original[col].dtype)) # Do this if you want to see the data type. "
   ]
  },
  {
   "cell_type": "code",
   "execution_count": 109,
   "metadata": {},
   "outputs": [],
   "source": [
    "# Import the second file. This file contains the graduation rate variable. \n",
    "\n",
    "xls_file2 = pd.ExcelFile('CompletionRate.xlsx')\n",
    "df_grad_ori = xls_file2.parse('Sheet1')\n",
    "df_grad_ori.dropna(subset=['C150_4'], inplace = True)\n",
    "df_grad_ori.drop([ 'OPEID','OPEID6','INSTNM'], axis = 1, inplace = True) \n",
    "df_grad_ori.rename(index=str, columns={'UNITID': 'unitid'}, inplace =True)\n",
    "df_grad_ori.rename(index=str, columns={'C150_4': 'grad_rate'}, inplace =True)\n",
    "# df_grad_ori.head(1)"
   ]
  },
  {
   "cell_type": "code",
   "execution_count": 110,
   "metadata": {},
   "outputs": [],
   "source": [
    "# In the first file, remove any rows that have null values in the SAT/ACT columns\n",
    "df_ipeds_temp.dropna(subset=['Calculated SAT M+CR Mean', 'Calculated ACT C Mean', 'Applicants total', 'Admissions total', \n",
    "                             'Enrolled total'], inplace = True)\n",
    "\n",
    "# Create some columns based on calculation\n",
    "\n",
    "# Normalize the SAT score by dividing 1600 (total possible score)\n",
    "df_ipeds_temp['Normalized_SAT'] = df_ipeds_temp['Calculated SAT M+CR Mean'] /1600\n",
    "# Normalize the ACT score by dividing 36 (total possible score)\n",
    "df_ipeds_temp['Normalized_ACT'] = df_ipeds_temp['Calculated ACT C Mean'] /36\n",
    "# Get average for the two normalized test score\n",
    "df_ipeds_temp['Normalized_SAT_ACT']= df_ipeds_temp[['Normalized_SAT','Normalized_ACT']].mean(axis=1)\n",
    "# Admission_pct, a.k.a. Offer Rate, is to measure the % of applicants who received the offer \n",
    "df_ipeds_temp['Admission_pct']= df_ipeds_temp['Admissions total'] / df_ipeds_temp['Applicants total']\n",
    "# Enroll_pct is to measure the % of offer receiver who eventually enrolled\n",
    "df_ipeds_temp['Enroll_pct']= df_ipeds_temp['Enrolled total'] / df_ipeds_temp['Admissions total']\n",
    "# 'Desire' is to measure the ratio of Enroll_pct / Admission_pct\n",
    "df_ipeds_temp['Desire']= df_ipeds_temp['Enroll_pct'] / df_ipeds_temp['Admission_pct']\n",
    "# 'Chosen_pct' is to measure the % of who enrolled against applicants. a.k.a. Of total applicants, the % that enrolled. \n",
    "df_ipeds_temp['Chosen_pct']= df_ipeds_temp['Enrolled total'] / df_ipeds_temp['Applicants total']\n",
    "# 'POT_applied' is to measure that of total students(who enrolled in U.S. colleges), the % of them applied a specific college\n",
    "df_ipeds_temp['POT_applied']= df_ipeds_temp['Applicants total'].div(df_ipeds_temp['Enrolled total'].sum())\n",
    "# create a new column Tuition_Revised base on Private/Public. This variable is used in some part of the analysis. \n",
    "# If 'Public' then Tuition = In State Tuition. Else (will be 'private') then = Out State Tuition\n",
    "df_ipeds_temp['Tuition_Revised'] = np.where(df_ipeds_temp['Control_of_institution']=='Public', df_ipeds_temp['Tuition_In_State'], df_ipeds_temp['Tuition_Out_State'])\n",
    "# drop un-necessary columns\n",
    "df_ipeds_temp.drop([ 'Normalized_SAT','Normalized_ACT'], axis = 1) \n",
    "\n",
    "# Left join the data with the second file to include the grad_rate in the same data frame. \n",
    "df_ipeds = pd.merge(df_ipeds_temp, df_grad_ori, on=['unitid'], how='left')\n",
    "\n"
   ]
  },
  {
   "cell_type": "markdown",
   "metadata": {},
   "source": [
    "The final data frame sample. See below. "
   ]
  },
  {
   "cell_type": "code",
   "execution_count": 111,
   "metadata": {},
   "outputs": [
    {
     "data": {
      "text/html": [
       "<div>\n",
       "<style scoped>\n",
       "    .dataframe tbody tr th:only-of-type {\n",
       "        vertical-align: middle;\n",
       "    }\n",
       "\n",
       "    .dataframe tbody tr th {\n",
       "        vertical-align: top;\n",
       "    }\n",
       "\n",
       "    .dataframe thead th {\n",
       "        text-align: right;\n",
       "    }\n",
       "</style>\n",
       "<table border=\"1\" class=\"dataframe\">\n",
       "  <thead>\n",
       "    <tr style=\"text-align: right;\">\n",
       "      <th></th>\n",
       "      <th>unitid</th>\n",
       "      <th>Institution name</th>\n",
       "      <th>ZIP</th>\n",
       "      <th>Longitude location of institution</th>\n",
       "      <th>Latitude location of institution</th>\n",
       "      <th>Carnegie Classification 2010: Basic</th>\n",
       "      <th>Religious affiliation</th>\n",
       "      <th>Applicants total</th>\n",
       "      <th>Admissions total</th>\n",
       "      <th>Enrolled total</th>\n",
       "      <th>...</th>\n",
       "      <th>Normalized_SAT</th>\n",
       "      <th>Normalized_ACT</th>\n",
       "      <th>Normalized_SAT_ACT</th>\n",
       "      <th>Admission_pct</th>\n",
       "      <th>Enroll_pct</th>\n",
       "      <th>Desire</th>\n",
       "      <th>Chosen_pct</th>\n",
       "      <th>POT_applied</th>\n",
       "      <th>Tuition_Revised</th>\n",
       "      <th>grad_rate</th>\n",
       "    </tr>\n",
       "  </thead>\n",
       "  <tbody>\n",
       "    <tr>\n",
       "      <th>0</th>\n",
       "      <td>100654</td>\n",
       "      <td>Alabama A &amp; M University</td>\n",
       "      <td>35762</td>\n",
       "      <td>-86.568502</td>\n",
       "      <td>34.783368</td>\n",
       "      <td>Master's Colleges and Universities (larger pro...</td>\n",
       "      <td>Not applicable</td>\n",
       "      <td>6142.0</td>\n",
       "      <td>5521.0</td>\n",
       "      <td>1104.0</td>\n",
       "      <td>...</td>\n",
       "      <td>0.50625</td>\n",
       "      <td>0.472222</td>\n",
       "      <td>0.489236</td>\n",
       "      <td>0.898893</td>\n",
       "      <td>0.199964</td>\n",
       "      <td>0.222456</td>\n",
       "      <td>0.179746</td>\n",
       "      <td>0.004879</td>\n",
       "      <td>5592.0</td>\n",
       "      <td>0.2749</td>\n",
       "    </tr>\n",
       "  </tbody>\n",
       "</table>\n",
       "<p>1 rows × 36 columns</p>\n",
       "</div>"
      ],
      "text/plain": [
       "   unitid          Institution name    ZIP  Longitude location of institution  \\\n",
       "0  100654  Alabama A & M University  35762                         -86.568502   \n",
       "\n",
       "   Latitude location of institution  \\\n",
       "0                         34.783368   \n",
       "\n",
       "                 Carnegie Classification 2010: Basic Religious affiliation  \\\n",
       "0  Master's Colleges and Universities (larger pro...        Not applicable   \n",
       "\n",
       "   Applicants total  Admissions total  Enrolled total    ...     \\\n",
       "0            6142.0            5521.0          1104.0    ...      \n",
       "\n",
       "   Normalized_SAT  Normalized_ACT  Normalized_SAT_ACT  Admission_pct  \\\n",
       "0         0.50625        0.472222            0.489236       0.898893   \n",
       "\n",
       "   Enroll_pct    Desire  Chosen_pct  POT_applied Tuition_Revised grad_rate  \n",
       "0    0.199964  0.222456    0.179746     0.004879          5592.0    0.2749  \n",
       "\n",
       "[1 rows x 36 columns]"
      ]
     },
     "execution_count": 111,
     "metadata": {},
     "output_type": "execute_result"
    }
   ],
   "source": [
    "df_ipeds.head(1)\n",
    "# Alternatively, you can export to csv to see the file easier, since there are too many variables to display on screen. \n",
    "# export_csv = df_ipeds_temp.to_csv (r'C:\\Test\\df_ipeds_temp.csv', index = None, header=True) "
   ]
  },
  {
   "cell_type": "markdown",
   "metadata": {},
   "source": [
    "## 2. The Quadrant"
   ]
  },
  {
   "cell_type": "markdown",
   "metadata": {},
   "source": [
    "If we plot all colleges in a scatter plot, x axis being the offer% (percent of applicants who received the offer), y axis being the enrollment% (percent of offer receivers who eventually enrolled), theoretically, we should see four quadrants (see below picture). \n",
    "\n",
    "*Highly Sought After* - The colleges in the upper left corner are those with low offer% and high enroll%. These are the colleges that are highly sought after. They are the top colleges. \n",
    "\n",
    "*Insurance* - The college in the lower right corner, are in the exact opposite situation. They gave out a lot of offers, but if the students have better choice, they would choose the better ones instead of these insurance college. \n",
    "\n",
    "*Stand the Ground* - The colleges in the lower left corner do not get high enrollment rate, however they stand the ground, do not give out the offer easily. \n",
    "\n",
    "*Soul Mate* - These colleges and students are true soul mate to each other. High offer%, high enroll%.  \n"
   ]
  },
  {
   "cell_type": "code",
   "execution_count": 112,
   "metadata": {},
   "outputs": [
    {
     "data": {
      "text/html": [
       "<div class='tableauPlaceholder' id='viz1550214515903' style='position: relative'><noscript><a href='#'><img alt=' ' src='https:&#47;&#47;public.tableau.com&#47;static&#47;images&#47;GG&#47;GGZTFP9N9&#47;1_rss.png' style='border: none' /></a></noscript><object class='tableauViz'  style='display:none;'><param name='host_url' value='https%3A%2F%2Fpublic.tableau.com%2F' /> <param name='embed_code_version' value='3' /> <param name='path' value='shared&#47;GGZTFP9N9' /> <param name='toolbar' value='yes' /><param name='static_image' value='https:&#47;&#47;public.tableau.com&#47;static&#47;images&#47;GG&#47;GGZTFP9N9&#47;1.png' /> <param name='animate_transition' value='yes' /><param name='display_static_image' value='yes' /><param name='display_spinner' value='yes' /><param name='display_overlay' value='yes' /><param name='display_count' value='yes' /><param name='filter' value='publish=yes' /></object></div>                <script type='text/javascript'>                    var divElement = document.getElementById('viz1550214515903');                    var vizElement = divElement.getElementsByTagName('object')[0];                    vizElement.style.width='100%';vizElement.style.height=(divElement.offsetWidth*0.75)+'px';                    var scriptElement = document.createElement('script');                    scriptElement.src = 'https://public.tableau.com/javascripts/api/viz_v1.js';                    vizElement.parentNode.insertBefore(scriptElement, vizElement);                </script>\n"
      ],
      "text/plain": [
       "<IPython.core.display.HTML object>"
      ]
     },
     "metadata": {},
     "output_type": "display_data"
    }
   ],
   "source": [
    "%%HTML\n",
    "<div class='tableauPlaceholder' id='viz1550214515903' style='position: relative'><noscript><a href='#'><img alt=' ' src='https:&#47;&#47;public.tableau.com&#47;static&#47;images&#47;GG&#47;GGZTFP9N9&#47;1_rss.png' style='border: none' /></a></noscript><object class='tableauViz'  style='display:none;'><param name='host_url' value='https%3A%2F%2Fpublic.tableau.com%2F' /> <param name='embed_code_version' value='3' /> <param name='path' value='shared&#47;GGZTFP9N9' /> <param name='toolbar' value='yes' /><param name='static_image' value='https:&#47;&#47;public.tableau.com&#47;static&#47;images&#47;GG&#47;GGZTFP9N9&#47;1.png' /> <param name='animate_transition' value='yes' /><param name='display_static_image' value='yes' /><param name='display_spinner' value='yes' /><param name='display_overlay' value='yes' /><param name='display_count' value='yes' /><param name='filter' value='publish=yes' /></object></div>                <script type='text/javascript'>                    var divElement = document.getElementById('viz1550214515903');                    var vizElement = divElement.getElementsByTagName('object')[0];                    vizElement.style.width='100%';vizElement.style.height=(divElement.offsetWidth*0.75)+'px';                    var scriptElement = document.createElement('script');                    scriptElement.src = 'https://public.tableau.com/javascripts/api/viz_v1.js';                    vizElement.parentNode.insertBefore(scriptElement, vizElement);                </script>"
   ]
  },
  {
   "cell_type": "markdown",
   "metadata": {},
   "source": [
    "To do the analysis, we could use a 50%-50% threshold to divide the scatter plot into four quadrants. However, the k-mean cluster technique is a better option. Each colleges *must* compete with each other to stand out. If they have many similarities, then they belong to the same group. Hence the cluster technique is better in providing this quadrant. "
   ]
  },
  {
   "cell_type": "code",
   "execution_count": 113,
   "metadata": {},
   "outputs": [
    {
     "data": {
      "text/plain": [
       "<matplotlib.collections.PathCollection at 0x23f52638898>"
      ]
     },
     "execution_count": 113,
     "metadata": {},
     "output_type": "execute_result"
    }
   ],
   "source": [
    "# Use K-mean n = 4 to cluster the data. Base on two variables: Enroll_pct, Admission_pct\n",
    "\n",
    "kmeans_model = skc.KMeans(n_clusters=4)\n",
    "kmeans_model.fit(df_ipeds[['Enroll_pct', 'Admission_pct']])\n",
    "centroids = kmeans_model.cluster_centers_\n",
    "centroids  # these are the centers of the clusters\n",
    "\n",
    "# Plot the clusters with their centroids.\n",
    "pd.options.mode.chained_assignment = None  # default='warn'\n",
    "df_ipeds['cluster_labels_kmeans'] = kmeans_model.labels_\n",
    "# f = sns.lmplot(y='Enroll_pct', x='Admission_pct', data=df_ipeds, hue='cluster_labels_kmeans',\n",
    "#                fit_reg=False, height=5, aspect=1.3)\n",
    "f.ax.scatter(centroids[:,1], centroids[:,0], marker='+', s=100,\n",
    "             linewidths=2, color='k')  \n"
   ]
  },
  {
   "cell_type": "markdown",
   "metadata": {},
   "source": [
    "## 3. Export the File for Tableau Use - Plot the clusters"
   ]
  },
  {
   "cell_type": "markdown",
   "metadata": {},
   "source": [
    "After the cluster technique was applied (codes were hidden above), the data was exported out as a csv file for Tableau use. "
   ]
  },
  {
   "cell_type": "code",
   "execution_count": 114,
   "metadata": {},
   "outputs": [],
   "source": [
    "# Do this ONLY when necessary. K-mean clusters labels change all the time. \n",
    "# export_csv = df_ipeds.to_csv (r'C:\\Users\\LC\\605Python\\df_ipeds_tableau.csv', index = None, header=True) #export to csv for Tableau"
   ]
  },
  {
   "cell_type": "markdown",
   "metadata": {},
   "source": [
    "### Question 1: What do the clusters look like? Do they seem all right? "
   ]
  },
  {
   "cell_type": "markdown",
   "metadata": {},
   "source": [
    "Below is the result. \n",
    "\n",
    "We can see that colleges are grouped into n=4 clusters. While the cluster technique does not allow train/test validation, I am still curious to see if the clusters are 'as expected'. \n",
    "\n",
    "Knowing the Ivy League colleges are the top colleges in the U.S., I marked them as stars in the plot below. All of them are in the 'Highly Sought After' group. \n",
    "\n",
    "Good! "
   ]
  },
  {
   "cell_type": "code",
   "execution_count": 115,
   "metadata": {},
   "outputs": [
    {
     "data": {
      "text/html": [
       "<div class='tableauPlaceholder' id='viz1550215454402' style='position: relative'><noscript><a href='#'><img alt=' ' src='https:&#47;&#47;public.tableau.com&#47;static&#47;images&#47;CB&#47;CBPP62GRZ&#47;1_rss.png' style='border: none' /></a></noscript><object class='tableauViz'  style='display:none;'><param name='host_url' value='https%3A%2F%2Fpublic.tableau.com%2F' /> <param name='embed_code_version' value='3' /> <param name='path' value='shared&#47;CBPP62GRZ' /> <param name='toolbar' value='yes' /><param name='static_image' value='https:&#47;&#47;public.tableau.com&#47;static&#47;images&#47;CB&#47;CBPP62GRZ&#47;1.png' /> <param name='animate_transition' value='yes' /><param name='display_static_image' value='yes' /><param name='display_spinner' value='yes' /><param name='display_overlay' value='yes' /><param name='display_count' value='yes' /><param name='filter' value='publish=yes' /></object></div>                <script type='text/javascript'>                    var divElement = document.getElementById('viz1550215454402');                    var vizElement = divElement.getElementsByTagName('object')[0];                    vizElement.style.width='100%';vizElement.style.height=(divElement.offsetWidth*0.75)+'px';                    var scriptElement = document.createElement('script');                    scriptElement.src = 'https://public.tableau.com/javascripts/api/viz_v1.js';                    vizElement.parentNode.insertBefore(scriptElement, vizElement);                </script>\n"
      ],
      "text/plain": [
       "<IPython.core.display.HTML object>"
      ]
     },
     "metadata": {},
     "output_type": "display_data"
    }
   ],
   "source": [
    "%%HTML\n",
    "<div class='tableauPlaceholder' id='viz1550215454402' style='position: relative'><noscript><a href='#'><img alt=' ' src='https:&#47;&#47;public.tableau.com&#47;static&#47;images&#47;CB&#47;CBPP62GRZ&#47;1_rss.png' style='border: none' /></a></noscript><object class='tableauViz'  style='display:none;'><param name='host_url' value='https%3A%2F%2Fpublic.tableau.com%2F' /> <param name='embed_code_version' value='3' /> <param name='path' value='shared&#47;CBPP62GRZ' /> <param name='toolbar' value='yes' /><param name='static_image' value='https:&#47;&#47;public.tableau.com&#47;static&#47;images&#47;CB&#47;CBPP62GRZ&#47;1.png' /> <param name='animate_transition' value='yes' /><param name='display_static_image' value='yes' /><param name='display_spinner' value='yes' /><param name='display_overlay' value='yes' /><param name='display_count' value='yes' /><param name='filter' value='publish=yes' /></object></div>                <script type='text/javascript'>                    var divElement = document.getElementById('viz1550215454402');                    var vizElement = divElement.getElementsByTagName('object')[0];                    vizElement.style.width='100%';vizElement.style.height=(divElement.offsetWidth*0.75)+'px';                    var scriptElement = document.createElement('script');                    scriptElement.src = 'https://public.tableau.com/javascripts/api/viz_v1.js';                    vizElement.parentNode.insertBefore(scriptElement, vizElement);                </script>\n"
   ]
  },
  {
   "cell_type": "markdown",
   "metadata": {},
   "source": [
    "## Question 2: What is the ACT/SAT Test Score's Role? "
   ]
  },
  {
   "cell_type": "markdown",
   "metadata": {},
   "source": [
    "Many studesnts consider the SAT/ACT test score as the deciding factor for college admission. Therefore, we plot a bar chart for the SAT/ACT score by clusters, as well as the histogram of scores, color by clusters. \n",
    "\n",
    "Note: The ACT/SAT score was treated (nomalized) due to their different scoring system. The scores were converted to percentage, rather than the original straight numbers. Then, the average of these two percentage was used as the final ACT/SAT test score percentage. This was done in the initial data cleaning process. "
   ]
  },
  {
   "cell_type": "code",
   "execution_count": 116,
   "metadata": {},
   "outputs": [
    {
     "data": {
      "text/html": [
       "<div class='tableauPlaceholder' id='viz1550216033300' style='position: relative'><noscript><a href='#'><img alt=' ' src='https:&#47;&#47;public.tableau.com&#47;static&#47;images&#47;2M&#47;2MMFR2Z8J&#47;1_rss.png' style='border: none' /></a></noscript><object class='tableauViz'  style='display:none;'><param name='host_url' value='https%3A%2F%2Fpublic.tableau.com%2F' /> <param name='embed_code_version' value='3' /> <param name='path' value='shared&#47;2MMFR2Z8J' /> <param name='toolbar' value='yes' /><param name='static_image' value='https:&#47;&#47;public.tableau.com&#47;static&#47;images&#47;2M&#47;2MMFR2Z8J&#47;1.png' /> <param name='animate_transition' value='yes' /><param name='display_static_image' value='yes' /><param name='display_spinner' value='yes' /><param name='display_overlay' value='yes' /><param name='display_count' value='yes' /><param name='filter' value='publish=yes' /></object></div>                <script type='text/javascript'>                    var divElement = document.getElementById('viz1550216033300');                    var vizElement = divElement.getElementsByTagName('object')[0];                    vizElement.style.width='100%';vizElement.style.height=(divElement.offsetWidth*0.75)+'px';                    var scriptElement = document.createElement('script');                    scriptElement.src = 'https://public.tableau.com/javascripts/api/viz_v1.js';                    vizElement.parentNode.insertBefore(scriptElement, vizElement);                </script>\n"
      ],
      "text/plain": [
       "<IPython.core.display.HTML object>"
      ]
     },
     "metadata": {},
     "output_type": "display_data"
    }
   ],
   "source": [
    "%%HTML\n",
    "<div class='tableauPlaceholder' id='viz1550216033300' style='position: relative'><noscript><a href='#'><img alt=' ' src='https:&#47;&#47;public.tableau.com&#47;static&#47;images&#47;2M&#47;2MMFR2Z8J&#47;1_rss.png' style='border: none' /></a></noscript><object class='tableauViz'  style='display:none;'><param name='host_url' value='https%3A%2F%2Fpublic.tableau.com%2F' /> <param name='embed_code_version' value='3' /> <param name='path' value='shared&#47;2MMFR2Z8J' /> <param name='toolbar' value='yes' /><param name='static_image' value='https:&#47;&#47;public.tableau.com&#47;static&#47;images&#47;2M&#47;2MMFR2Z8J&#47;1.png' /> <param name='animate_transition' value='yes' /><param name='display_static_image' value='yes' /><param name='display_spinner' value='yes' /><param name='display_overlay' value='yes' /><param name='display_count' value='yes' /><param name='filter' value='publish=yes' /></object></div>                <script type='text/javascript'>                    var divElement = document.getElementById('viz1550216033300');                    var vizElement = divElement.getElementsByTagName('object')[0];                    vizElement.style.width='100%';vizElement.style.height=(divElement.offsetWidth*0.75)+'px';                    var scriptElement = document.createElement('script');                    scriptElement.src = 'https://public.tableau.com/javascripts/api/viz_v1.js';                    vizElement.parentNode.insertBefore(scriptElement, vizElement);                </script>"
   ]
  },
  {
   "cell_type": "markdown",
   "metadata": {},
   "source": [
    "Unsurprisingly, the average test score is very high for the Highly Sought After colleges. However, the remaining three clusters' test scores are very close to each other (they are in the same competition zone). \n",
    "\n",
    "The purpose of the histogram is not to demonstrate each clusters' proportion in each SAT/ACT test score bin. The purpose is to encourage the students who didn't get a good score. In almost every bin, all four clusters are present. Except for the high-range bins, 80% - 85%, where only two clusters (Highly Sought After and Stand the Ground) present,  then one cluster (Highly Sought After) in 87.5% - 95%. Surprisingly, in the 40% bin, only the Highly Sought After is present. The suspicion is that some students may have special talents which resulted in their admission to the Highly Sought After colleges. But we have no way to confirm this in this data set. \n",
    "\n",
    "Conclusion: For the Highly Sought After clusters, generally you do need high test score. However, for all the remaining clusters, the test score does not appear to be the deciding factors. *Test Score somehow matters...depends on which cluster*. "
   ]
  },
  {
   "cell_type": "markdown",
   "metadata": {},
   "source": [
    "## Question 3: Does money matter? "
   ]
  },
  {
   "cell_type": "code",
   "execution_count": 117,
   "metadata": {},
   "outputs": [
    {
     "data": {
      "text/html": [
       "<div class='tableauPlaceholder' id='viz1550217257107' style='position: relative'><noscript><a href='#'><img alt=' ' src='https:&#47;&#47;public.tableau.com&#47;static&#47;images&#47;G6&#47;G6N3FYDSJ&#47;1_rss.png' style='border: none' /></a></noscript><object class='tableauViz'  style='display:none;'><param name='host_url' value='https%3A%2F%2Fpublic.tableau.com%2F' /> <param name='embed_code_version' value='3' /> <param name='path' value='shared&#47;G6N3FYDSJ' /> <param name='toolbar' value='yes' /><param name='static_image' value='https:&#47;&#47;public.tableau.com&#47;static&#47;images&#47;G6&#47;G6N3FYDSJ&#47;1.png' /> <param name='animate_transition' value='yes' /><param name='display_static_image' value='yes' /><param name='display_spinner' value='yes' /><param name='display_overlay' value='yes' /><param name='display_count' value='yes' /><param name='filter' value='publish=yes' /></object></div>                <script type='text/javascript'>                    var divElement = document.getElementById('viz1550217257107');                    var vizElement = divElement.getElementsByTagName('object')[0];                    vizElement.style.width='100%';vizElement.style.height=(divElement.offsetWidth*0.75)+'px';                    var scriptElement = document.createElement('script');                    scriptElement.src = 'https://public.tableau.com/javascripts/api/viz_v1.js';                    vizElement.parentNode.insertBefore(scriptElement, vizElement);                </script>\n"
      ],
      "text/plain": [
       "<IPython.core.display.HTML object>"
      ]
     },
     "metadata": {},
     "output_type": "display_data"
    }
   ],
   "source": [
    "%%HTML\n",
    "<div class='tableauPlaceholder' id='viz1550217257107' style='position: relative'><noscript><a href='#'><img alt=' ' src='https:&#47;&#47;public.tableau.com&#47;static&#47;images&#47;G6&#47;G6N3FYDSJ&#47;1_rss.png' style='border: none' /></a></noscript><object class='tableauViz'  style='display:none;'><param name='host_url' value='https%3A%2F%2Fpublic.tableau.com%2F' /> <param name='embed_code_version' value='3' /> <param name='path' value='shared&#47;G6N3FYDSJ' /> <param name='toolbar' value='yes' /><param name='static_image' value='https:&#47;&#47;public.tableau.com&#47;static&#47;images&#47;G6&#47;G6N3FYDSJ&#47;1.png' /> <param name='animate_transition' value='yes' /><param name='display_static_image' value='yes' /><param name='display_spinner' value='yes' /><param name='display_overlay' value='yes' /><param name='display_count' value='yes' /><param name='filter' value='publish=yes' /></object></div>                <script type='text/javascript'>                    var divElement = document.getElementById('viz1550217257107');                    var vizElement = divElement.getElementsByTagName('object')[0];                    vizElement.style.width='100%';vizElement.style.height=(divElement.offsetWidth*0.75)+'px';                    var scriptElement = document.createElement('script');                    scriptElement.src = 'https://public.tableau.com/javascripts/api/viz_v1.js';                    vizElement.parentNode.insertBefore(scriptElement, vizElement);                </script>"
   ]
  },
  {
   "cell_type": "markdown",
   "metadata": {},
   "source": [
    "In this chart, the overwhelming first realization is that the hugh gap of tuition in between the private college and public college, especially between the private college and the public in-state tuition. \n",
    "\n",
    "Secondly, the top colleges (Highly Sought After) has the highest tuition, unsurprisingly. A very interesting discovery is that the rank of these clusters don't change whether it's Private, Public out-of-state, or Public in-state. Soul mate colleges have the lowest tuition - this is probably why they are soul mate to the students. "
   ]
  },
  {
   "cell_type": "markdown",
   "metadata": {},
   "source": [
    "There was another two charts plotted in Tableau on the Financial Aid aspect. The key take-away is that all four clusters are trying very hard to help the students with financial difficulty. Unfortunately, due to the nature of the data, I was not able to normalize such data to create a side-by-side comparison to determine whether the money matters. Therefore these charts were not presented. "
   ]
  },
  {
   "cell_type": "markdown",
   "metadata": {},
   "source": [
    "## Question 4: Using the test score and the tuition data, can we predict the type of college (Public/Private) using K-neighbor and Naive Bays methods? "
   ]
  },
  {
   "cell_type": "code",
   "execution_count": 118,
   "metadata": {},
   "outputs": [],
   "source": [
    "# Prepare dataframe for train/test\n",
    "\n",
    "# Note: Why use the 'Tuition_Out_State' instead of other tuition variables? \n",
    "# Because the Tuition_Out_State is a fair measure of the college's attraction to all the out-of-state students. \n",
    "\n",
    "ipeds_tuition_score_ori = df_ipeds[['Tuition_Out_State', 'Normalized_SAT_ACT', 'Control_of_institution']].copy()\n",
    "ipeds_tuition_score_ori\n",
    "ipeds_tuition_score=ipeds_tuition_score_ori.drop([ 'Control_of_institution'], axis=1)\n",
    "\n",
    "ipeds_tuition_score_raw = ipeds_tuition_score.columns"
   ]
  },
  {
   "cell_type": "code",
   "execution_count": 119,
   "metadata": {},
   "outputs": [],
   "source": [
    "# Split data to train/test with Tuition_Out_State and Normalized_SAT_ACT\n",
    "\n",
    "# ipeds_tuition_score_ori = df_ipeds[['Tuition_Revised', 'Normalized_SAT_ACT', 'Control_of_institution']].copy()\n",
    "from sklearn.model_selection import train_test_split\n",
    "X_cols =['Tuition_Out_State','Normalized_SAT_ACT' ]\n",
    "# X_cols\n",
    "y=ipeds_tuition_score_ori['Control_of_institution']\n",
    "\n",
    "f_train, f_test, l_train, l_test = train_test_split(ipeds_tuition_score_ori[ipeds_tuition_score_raw], \n",
    "                 ipeds_tuition_score_ori['Control_of_institution'], test_size=0.4, random_state=42)"
   ]
  },
  {
   "cell_type": "code",
   "execution_count": 120,
   "metadata": {},
   "outputs": [],
   "source": [
    "# Use K-Nearest Method and Plot\n",
    "\n",
    "n = 2\n",
    "ipeds_neigh = KNeighborsClassifier(n_neighbors=n) #using k-Nearest method\n",
    "ipeds_neigh.fit(ipeds_tuition_score_ori[['Tuition_Out_State','Normalized_SAT_ACT']],ipeds_tuition_score_ori['Control_of_institution'])\n",
    "\n",
    "\n",
    "# Plot the result (K-Nearest)\n",
    "\n",
    "def plot_scores(df, classifier): \n",
    "    xx,yy=np.meshgrid(np.linspace(df['Tuition_Out_State'].min(),df['Tuition_Out_State'].max()+10), \n",
    "                      np.linspace(df['Normalized_SAT_ACT'].min(),df['Normalized_SAT_ACT'].max()+0.1), \n",
    "                     )  \n",
    "    #df['Normalized SAT'].min(),df['Normalized SAT'].max()+4\n",
    "    Zstring = classifier.predict(np.c_[xx.ravel(), yy.ravel()])\n",
    "    repdict = {'Public' : 1, 'Private not-for-profit' : 2\n",
    "              } #map predictions to plottable numbers\n",
    "\n",
    "    Z = np.zeros_like(Zstring)\n",
    "    for k,v in repdict.items():\n",
    "        Z[Zstring==k]=v\n",
    "    \n",
    "    Z = Z.reshape(xx.shape)\n",
    "    plt.contourf(xx, yy, Z, cmap=plt.cm.get_cmap('RdBu',6),vmin=0,vmax=5)\n",
    "    plt.xlabel('Tuition_Out_State');plt.ylabel('Normalized_SAT_ACT')\n",
    "    cbar = plt.colorbar(ticks=[1,2])\n",
    "    cbar.ax.set_yticklabels(['Public', 'Private'])\n",
    "    plt.scatter(df['Tuition_Out_State'],df['Normalized_SAT_ACT'], color=\"black\",alpha=0.2) \n",
    "    \n",
    "# plot_scores(f_test,ipeds_neigh)\n",
    "# plt.title('K-Nearest Neighbors', fontsize = 16)"
   ]
  },
  {
   "cell_type": "code",
   "execution_count": 121,
   "metadata": {},
   "outputs": [],
   "source": [
    "# Use Naive Bays Method and Plot\n",
    "\n",
    "# from sklearn.naive_bayes import GaussianNB  \n",
    "\n",
    "# ipeds_gnb = GaussianNB().fit(f_train,l_train)\n",
    "# ipeds_gnb_predictions_test = ipeds_gnb.predict(f_test)\n",
    "\n",
    "# # Plot the result (Naive Bays)\n",
    "# plot_scores(ipeds_tuition_score,ipeds_gnb)\n",
    "# plt.title('Naive Bayes', fontsize = 16)"
   ]
  },
  {
   "cell_type": "code",
   "execution_count": 122,
   "metadata": {},
   "outputs": [],
   "source": [
    "# This is just to show the actual data - Scatter plot. Color by Public/Private\n",
    "# sns.lmplot(y='Normalized_SAT_ACT', x='Tuition_Out_State', hue='Control_of_institution', \n",
    "#            palette = {'Public':'tomato', 'Private not-for-profit':'peachpuff'}, legend = False,\n",
    "#            fit_reg=False, data=df_ipeds);\n",
    "# plt.title('Normalized_SAT_ACT vs. Tuition_Out_State')"
   ]
  },
  {
   "cell_type": "code",
   "execution_count": 123,
   "metadata": {},
   "outputs": [
    {
     "data": {
      "text/html": [
       "<div class='tableauPlaceholder' id='viz1550218403222' style='position: relative'><noscript><a href='#'><img alt=' ' src='https:&#47;&#47;public.tableau.com&#47;static&#47;images&#47;D6&#47;D6CTRJ9JF&#47;1_rss.png' style='border: none' /></a></noscript><object class='tableauViz'  style='display:none;'><param name='host_url' value='https%3A%2F%2Fpublic.tableau.com%2F' /> <param name='embed_code_version' value='3' /> <param name='path' value='shared&#47;D6CTRJ9JF' /> <param name='toolbar' value='yes' /><param name='static_image' value='https:&#47;&#47;public.tableau.com&#47;static&#47;images&#47;D6&#47;D6CTRJ9JF&#47;1.png' /> <param name='animate_transition' value='yes' /><param name='display_static_image' value='yes' /><param name='display_spinner' value='yes' /><param name='display_overlay' value='yes' /><param name='display_count' value='yes' /><param name='filter' value='publish=yes' /></object></div>                <script type='text/javascript'>                    var divElement = document.getElementById('viz1550218403222');                    var vizElement = divElement.getElementsByTagName('object')[0];                    vizElement.style.width='100%';vizElement.style.height=(divElement.offsetWidth*0.75)+'px';                    var scriptElement = document.createElement('script');                    scriptElement.src = 'https://public.tableau.com/javascripts/api/viz_v1.js';                    vizElement.parentNode.insertBefore(scriptElement, vizElement);                </script>\n"
      ],
      "text/plain": [
       "<IPython.core.display.HTML object>"
      ]
     },
     "metadata": {},
     "output_type": "display_data"
    }
   ],
   "source": [
    "%%HTML\n",
    "<div class='tableauPlaceholder' id='viz1550218403222' style='position: relative'><noscript><a href='#'><img alt=' ' src='https:&#47;&#47;public.tableau.com&#47;static&#47;images&#47;D6&#47;D6CTRJ9JF&#47;1_rss.png' style='border: none' /></a></noscript><object class='tableauViz'  style='display:none;'><param name='host_url' value='https%3A%2F%2Fpublic.tableau.com%2F' /> <param name='embed_code_version' value='3' /> <param name='path' value='shared&#47;D6CTRJ9JF' /> <param name='toolbar' value='yes' /><param name='static_image' value='https:&#47;&#47;public.tableau.com&#47;static&#47;images&#47;D6&#47;D6CTRJ9JF&#47;1.png' /> <param name='animate_transition' value='yes' /><param name='display_static_image' value='yes' /><param name='display_spinner' value='yes' /><param name='display_overlay' value='yes' /><param name='display_count' value='yes' /><param name='filter' value='publish=yes' /></object></div>                <script type='text/javascript'>                    var divElement = document.getElementById('viz1550218403222');                    var vizElement = divElement.getElementsByTagName('object')[0];                    vizElement.style.width='100%';vizElement.style.height=(divElement.offsetWidth*0.75)+'px';                    var scriptElement = document.createElement('script');                    scriptElement.src = 'https://public.tableau.com/javascripts/api/viz_v1.js';                    vizElement.parentNode.insertBefore(scriptElement, vizElement);                </script>"
   ]
  },
  {
   "cell_type": "markdown",
   "metadata": {},
   "source": [
    "* Note: Originally, I used the variable \"Tuition_Revised\" for the tuition. \"Tuition_Revised\" is a calculated varilable that when a college is public, then use the In-State Tuition, else Out-Stat Tuition. Later, I realized that it was not a fair comparison - The public colleges accept out-of-state students too. Therefore, since the out-of-state tuition is the same for either private or public, I decided to use the out-of-state tuition as the variable in this analysis. \n",
    "\n",
    "It is very surprising to see that both methods predict the type of colleges solely by tuition. This, on the other hand, somehow corresponds to the conclusion in Question 2 - the test score doesn't seem to be significant in the three clusters (Stand the Ground, Soul Mate and Insurance). But tuition matters. "
   ]
  },
  {
   "cell_type": "markdown",
   "metadata": {},
   "source": [
    "A side question was raised - Since the tuition is so dominating, do the private colleges accept students regardless of their test score, then subsequently causes low graduation rate? \n",
    "\n",
    "Base on the average graduation rate chart, the answer is 'no'. On the contrary, the private colleges actually deliver higher graduation rate. "
   ]
  },
  {
   "cell_type": "markdown",
   "metadata": {},
   "source": [
    "## Question 5: Any Regression Model? "
   ]
  },
  {
   "cell_type": "markdown",
   "metadata": {},
   "source": [
    "In this exercise, I chose a variety of variables to build the model. The combination includes: \n",
    "\n",
    "Different y variables: 1. Desire index (% Enrolled / % Offer); 2.  % applicants who enrolled (# of Enrolled / # of Applicant), different from the enrollment rate. 3. % of total later-college-students who applied (# of Applicant / # all available seats in U.S. POT_applied)\n",
    "\n",
    "Different x variables: Normalized_ACT_SAT, Tuition_Out_State, Tuition_Revised (If public college, Tuition_In_State, else Tuition_Out_State), grad_rate, cluster\n",
    "\n",
    "Different terms: First order model only vs. model with interaction terms \n",
    "\n",
    "Different Data Frame: Private college only, Public college only, All college\n"
   ]
  },
  {
   "cell_type": "code",
   "execution_count": 124,
   "metadata": {},
   "outputs": [],
   "source": [
    "# Regression 1:  \n",
    "# Y: Desire.\n",
    "# X: Normalized_SAT_ACT, Tuition_Out_State OR Tuition_Revised, grad_rate\n",
    "# Data Frame: varies. Public only / Private only / Combined\n",
    "\n",
    "df_ipeds.dropna(subset=['grad_rate'], inplace = True)\n",
    "\n",
    "import statsmodels.formula.api as smf\n",
    "\n",
    "df_ipeds_private=df_ipeds[(df_ipeds.Control_of_institution == \"Private not-for-profit\") ]\n",
    "df_ipeds_public=df_ipeds[(df_ipeds.Control_of_institution == \"Public\") ]\n",
    "\n",
    "Private_interac_desire_g = smf.ols(formula='Desire ~ Normalized_SAT_ACT + Tuition_Out_State + grad_rate+ Normalized_SAT_ACT*Tuition_Out_State+ Tuition_Out_State*grad_rate + Normalized_SAT_ACT*grad_rate', data=df_ipeds_private).fit() \n",
    "Private_desire_g = smf.ols(formula='Desire ~ Normalized_SAT_ACT + Tuition_Out_State + grad_rate', data=df_ipeds_private).fit() \n",
    "Public_interac_desire_g = smf.ols(formula='Desire ~ Normalized_SAT_ACT + Tuition_Out_State + grad_rate+ Normalized_SAT_ACT*Tuition_Out_State+ Tuition_Out_State*grad_rate + Normalized_SAT_ACT*grad_rate', data=df_ipeds_public).fit() \n",
    "Public_desire_g = smf.ols(formula='Desire ~ Normalized_SAT_ACT + Tuition_Out_State + grad_rate', data=df_ipeds_public).fit() \n",
    "Combine_interac_desire_g = smf.ols(formula='Desire ~ Normalized_SAT_ACT + Tuition_Revised + grad_rate+ Normalized_SAT_ACT*Tuition_Revised+ Tuition_Revised*grad_rate + Normalized_SAT_ACT*grad_rate', data=df_ipeds).fit() \n",
    "Combine_desire_g = smf.ols(formula='Desire ~ Normalized_SAT_ACT + Tuition_Revised + grad_rate', data=df_ipeds).fit() \n",
    "\n",
    "\n",
    "df_R2adj_desire_g = pd.DataFrame({'Model': [ 'Private_interac_desire_g', 'Private_desire_g', 'Public_interac_desire_g', 'Public_desire_g', 'Combine_interac_desire_g', 'Combine_desire_g'], \n",
    "                   'R2_Adjusted': [Private_interac_desire_g.rsquared_adj,Private_desire_g.rsquared_adj, Public_interac_desire_g.rsquared_adj, Public_desire_g.rsquared_adj, Combine_interac_desire_g.rsquared_adj, Combine_desire_g.rsquared_adj]})\n",
    "# df_R2adj_desire_g = pd.DataFrame({'Model': [ 'Private_desire_g',  'Public_desire_g',  'Combine_desire_g'], \n",
    "#                    'R2_Adjusted': [Private_desire_g.rsquared_adj, Public_desire_g.rsquared_adj, Combine_desire_g.rsquared_adj]})\n",
    "# df_R2adj_desire_g\n"
   ]
  },
  {
   "cell_type": "code",
   "execution_count": 125,
   "metadata": {},
   "outputs": [],
   "source": [
    "# Regression 2:  \n",
    "# Y: Chosen_pct.\n",
    "# X: Normalized_SAT_ACT, Tuition_Out_State OR Tuition_Revised, grad_rate\n",
    "# Data Frame: varies. Public only / Private only / Combined\n",
    "\n",
    "df_ipeds.dropna(subset=['grad_rate'], inplace = True)\n",
    "\n",
    "import statsmodels.formula.api as smf\n",
    "\n",
    "df_ipeds_private=df_ipeds[(df_ipeds.Control_of_institution == \"Private not-for-profit\") ]\n",
    "df_ipeds_public=df_ipeds[(df_ipeds.Control_of_institution == \"Public\") ]\n",
    "\n",
    "Private_interac_chosen_g = smf.ols(formula='Chosen_pct ~ Normalized_SAT_ACT + Tuition_Out_State + grad_rate + Normalized_SAT_ACT*Tuition_Out_State + Tuition_Out_State*grad_rate + Normalized_SAT_ACT*grad_rate', data=df_ipeds_private).fit() \n",
    "Private_chosen_g = smf.ols(formula='Chosen_pct ~ Normalized_SAT_ACT + Tuition_Out_State + grad_rate', data=df_ipeds_private).fit() \n",
    "Public_interac_chosen_g = smf.ols(formula='Chosen_pct ~ Normalized_SAT_ACT + Tuition_Out_State + grad_rate + Normalized_SAT_ACT*Tuition_Out_State + Tuition_Out_State*grad_rate + Normalized_SAT_ACT*grad_rate', data=df_ipeds_public).fit() \n",
    "Public_chosen_g = smf.ols(formula='Chosen_pct ~ Normalized_SAT_ACT + Tuition_Out_State + grad_rate', data=df_ipeds_public).fit() \n",
    "Combine_interac_chosen_g = smf.ols(formula='Chosen_pct ~ Normalized_SAT_ACT + Tuition_Revised + grad_rate + Normalized_SAT_ACT*Tuition_Revised + Tuition_Revised*grad_rate + Normalized_SAT_ACT*grad_rate', data=df_ipeds).fit() \n",
    "Combine_chosen_g = smf.ols(formula='Chosen_pct ~ Normalized_SAT_ACT + Tuition_Revised + grad_rate', data=df_ipeds).fit() \n",
    "\n",
    "df_R2adj_chosen_g = pd.DataFrame({'Model': ['Private_interac_chosen_g', 'Private_chosen_g', 'Public_interac_chosen_g', \n",
    "                                          'Public_chosen_g', 'Combine_interac_chosen_g', 'Combine_chosen_g'], \n",
    "                   'R2_Adjusted': [Private_interac_chosen_g.rsquared_adj,Private_chosen_g.rsquared_adj, \n",
    "                              Public_interac_chosen_g.rsquared_adj, Public_chosen_g.rsquared_adj, \n",
    "                              Combine_interac_chosen_g.rsquared_adj, Combine_chosen_g.rsquared_adj]})\n",
    "# df_R2adj_chosen_g"
   ]
  },
  {
   "cell_type": "code",
   "execution_count": 126,
   "metadata": {},
   "outputs": [],
   "source": [
    "# Regression 3:  \n",
    "# Y: POT_applied.\n",
    "# X: Normalized_SAT_ACT, Tuition_Out_State OR Tuition_Revised, grad_rate\n",
    "# Data Frame: varies. Public only / Private only / Combined\n",
    "\n",
    "df_ipeds.dropna(subset=['grad_rate'], inplace = True)\n",
    "import statsmodels.formula.api as smf\n",
    "\n",
    "df_ipeds_private=df_ipeds[(df_ipeds.Control_of_institution == \"Private not-for-profit\") ]\n",
    "df_ipeds_public=df_ipeds[(df_ipeds.Control_of_institution == \"Public\") ]\n",
    "\n",
    "Private_interac_POT_applied_g = smf.ols(formula='POT_applied ~ Normalized_SAT_ACT + Tuition_Out_State + grad_rate + Normalized_SAT_ACT*Tuition_Out_State + Tuition_Out_State*grad_rate + Normalized_SAT_ACT*grad_rate', data=df_ipeds_private).fit() \n",
    "Private_POT_applied_g = smf.ols(formula='POT_applied ~ Normalized_SAT_ACT + Tuition_Out_State + grad_rate', data=df_ipeds_private).fit() \n",
    "Public_interac_POT_applied_g = smf.ols(formula='POT_applied ~ Normalized_SAT_ACT + Tuition_Out_State + grad_rate + Normalized_SAT_ACT*Tuition_Out_State + Tuition_Out_State*grad_rate + Normalized_SAT_ACT*grad_rate', data=df_ipeds_public).fit() \n",
    "Public_POT_applied_g = smf.ols(formula='POT_applied ~ Normalized_SAT_ACT + Tuition_Out_State + grad_rate', data=df_ipeds_public).fit() \n",
    "Combine_POT_interac_applied_g = smf.ols(formula='POT_applied ~ Normalized_SAT_ACT + Tuition_Revised + grad_rate + Normalized_SAT_ACT*Tuition_Revised + Tuition_Revised*grad_rate + Normalized_SAT_ACT*grad_rate', data=df_ipeds).fit() \n",
    "Combine_POT_applied_g = smf.ols(formula='POT_applied ~ Normalized_SAT_ACT + Tuition_Revised + grad_rate', data=df_ipeds).fit() \n",
    "\n",
    "df_R2adj_POT_applied_g = pd.DataFrame({'Model': ['Private_interac_POT_applied_g', 'Private_POT_applied_g', 'Public_interac_POT_applied_g', \n",
    "                                          'Public_POT_applied_g', 'Combine_POT_interac_applied_g', 'Combine_POT_applied_g',], \n",
    "                   'R2_Adjusted': [Private_interac_POT_applied_g.rsquared_adj,Private_POT_applied_g.rsquared_adj, \n",
    "                              Public_interac_POT_applied_g.rsquared_adj, Public_POT_applied_g.rsquared_adj, \n",
    "                              Combine_POT_interac_applied_g.rsquared_adj, Combine_POT_applied_g.rsquared_adj]})\n",
    "# df_R2adj_POT_applied_g"
   ]
  },
  {
   "cell_type": "code",
   "execution_count": 127,
   "metadata": {},
   "outputs": [],
   "source": [
    "# Regression 4:  \n",
    "# Y: Desire.\n",
    "# X: Normalized_SAT_ACT, Tuition_Out_State OR Tuition_Revised, grad_rate, cluster\n",
    "# Data Frame: varies. Public only / Private only / Combined\n",
    "\n",
    "df_ipeds.dropna(subset=['grad_rate'], inplace = True)\n",
    "\n",
    "import statsmodels.formula.api as smf\n",
    "\n",
    "df_ipeds_private=df_ipeds[(df_ipeds.Control_of_institution == \"Private not-for-profit\") ]\n",
    "df_ipeds_public=df_ipeds[(df_ipeds.Control_of_institution == \"Public\") ]\n",
    "\n",
    "Private_interac_desire_gc = smf.ols(formula='Desire ~ Normalized_SAT_ACT + Tuition_Out_State + grad_rate+ Normalized_SAT_ACT*Tuition_Out_State+ Tuition_Out_State*grad_rate + Normalized_SAT_ACT*grad_rate + cluster_labels_kmeans', data=df_ipeds_private).fit() \n",
    "Private_desire_gc = smf.ols(formula='Desire ~ Normalized_SAT_ACT + Tuition_Out_State + grad_rate + cluster_labels_kmeans', data=df_ipeds_private).fit() \n",
    "Public_interac_desire_gc = smf.ols(formula='Desire ~ Normalized_SAT_ACT + Tuition_Out_State + grad_rate+ Normalized_SAT_ACT*Tuition_Out_State+ Tuition_Out_State*grad_rate + Normalized_SAT_ACT*grad_rate + cluster_labels_kmeans', data=df_ipeds_public).fit() \n",
    "Public_desire_gc = smf.ols(formula='Desire ~ Normalized_SAT_ACT + Tuition_Out_State + grad_rate + cluster_labels_kmeans', data=df_ipeds_public).fit() \n",
    "Combine_interac_desire_gc = smf.ols(formula='Desire ~ Normalized_SAT_ACT + Tuition_Revised + grad_rate+ Normalized_SAT_ACT*Tuition_Revised+ Tuition_Revised*grad_rate + Normalized_SAT_ACT*grad_rate + cluster_labels_kmeans', data=df_ipeds).fit() \n",
    "Combine_desire_gc = smf.ols(formula='Desire ~ Normalized_SAT_ACT + Tuition_Revised + grad_rate + cluster_labels_kmeans', data=df_ipeds).fit() \n",
    "\n",
    "\n",
    "df_R2adj_desire_gc = pd.DataFrame({'Model': [ 'Private_interac_desire_gc', 'Private_desire_gc', 'Public_interac_desire_gc', 'Public_desire_gc', 'Combine_interac_desire_gc', 'Combine_desire_gc'], \n",
    "                   'R2_Adjusted': [Private_interac_desire_gc.rsquared_adj,Private_desire_gc.rsquared_adj, Public_interac_desire_gc.rsquared_adj, Public_desire_gc.rsquared_adj, Combine_interac_desire_gc.rsquared_adj, Combine_desire_gc.rsquared_adj]})\n",
    "# df_R2adj_desire_g = pd.DataFrame({'Model': [ 'Private_desire_g',  'Public_desire_g',  'Combine_desire_g'], \n",
    "#                    'R2_Adjusted': [Private_desire_g.rsquared_adj, Public_desire_g.rsquared_adj, Combine_desire_g.rsquared_adj]})\n",
    "# df_R2adj_desire_gc\n"
   ]
  },
  {
   "cell_type": "code",
   "execution_count": 128,
   "metadata": {},
   "outputs": [],
   "source": [
    "# Regression 5:  \n",
    "# Y: Chosen_pct.\n",
    "# X: Normalized_SAT_ACT, Tuition_Out_State OR Tuition_Revised, grad_rate, cluster\n",
    "# Data Frame: varies. Public only / Private only / Combined\n",
    "\n",
    "df_ipeds.dropna(subset=['grad_rate'], inplace = True)\n",
    "\n",
    "import statsmodels.formula.api as smf\n",
    "\n",
    "df_ipeds_private=df_ipeds[(df_ipeds.Control_of_institution == \"Private not-for-profit\") ]\n",
    "df_ipeds_public=df_ipeds[(df_ipeds.Control_of_institution == \"Public\") ]\n",
    "\n",
    "Private_interac_chosen_gc = smf.ols(formula='Chosen_pct ~ Normalized_SAT_ACT + Tuition_Out_State + grad_rate + Normalized_SAT_ACT*Tuition_Out_State + Tuition_Out_State*grad_rate + Normalized_SAT_ACT*grad_rate + C(cluster_labels_kmeans)', data=df_ipeds_private).fit() \n",
    "Private_chosen_gc = smf.ols(formula='Chosen_pct ~ Normalized_SAT_ACT + Tuition_Out_State + grad_rate + C(cluster_labels_kmeans)', data=df_ipeds_private).fit() \n",
    "Public_interac_chosen_gc = smf.ols(formula='Chosen_pct ~ Normalized_SAT_ACT + Tuition_Out_State + grad_rate + Normalized_SAT_ACT*Tuition_Out_State + Tuition_Out_State*grad_rate + Normalized_SAT_ACT*grad_rate + C(cluster_labels_kmeans)', data=df_ipeds_public).fit() \n",
    "Public_chosen_gc = smf.ols(formula='Chosen_pct ~ Normalized_SAT_ACT + Tuition_Out_State + grad_rate+ C(cluster_labels_kmeans)', data=df_ipeds_public).fit() \n",
    "Combine_interac_chosen_gc = smf.ols(formula='Chosen_pct ~ Normalized_SAT_ACT + Tuition_Revised + grad_rate + Normalized_SAT_ACT*Tuition_Revised + Tuition_Revised*grad_rate + Normalized_SAT_ACT*grad_rate+ C(cluster_labels_kmeans)', data=df_ipeds).fit() \n",
    "Combine_chosen_gc = smf.ols(formula='Chosen_pct ~ Normalized_SAT_ACT + Tuition_Revised + grad_rate+ C(cluster_labels_kmeans)', data=df_ipeds).fit() \n",
    "\n",
    "df_R2adj_chosen_gc = pd.DataFrame({'Model': ['Private_interac_chosen_gc', 'Private_chosen_gc', 'Public_interac_chosen_gc', \n",
    "                                          'Public_chosen_gc', 'Combine_interac_chosen_gc', 'Combine_chosen_gc'], \n",
    "                   'R2_Adjusted': [Private_interac_chosen_gc.rsquared_adj,Private_chosen_gc.rsquared_adj, \n",
    "                              Public_interac_chosen_gc.rsquared_adj, Public_chosen_gc.rsquared_adj, \n",
    "                              Combine_interac_chosen_gc.rsquared_adj, Combine_chosen_gc.rsquared_adj]})\n",
    "# df_R2adj_chosen_gc\n",
    "# Private_interac_chosen_gc.summary()"
   ]
  },
  {
   "cell_type": "code",
   "execution_count": 129,
   "metadata": {},
   "outputs": [],
   "source": [
    "# Regression 6:  \n",
    "# Y: POT_Applied.\n",
    "# X: Normalized_SAT_ACT, Tuition_Out_State OR Tuition_Revised, grad_rate, cluster\n",
    "# Data Frame: varies. Public only / Private only / Combined\n",
    "\n",
    "df_ipeds.dropna(subset=['grad_rate'], inplace = True)\n",
    "import statsmodels.formula.api as smf\n",
    "\n",
    "df_ipeds_private=df_ipeds[(df_ipeds.Control_of_institution == \"Private not-for-profit\") ]\n",
    "df_ipeds_public=df_ipeds[(df_ipeds.Control_of_institution == \"Public\") ]\n",
    "\n",
    "Private_interac_POT_applied_gc = smf.ols(formula='POT_applied ~ Normalized_SAT_ACT + Tuition_Out_State + grad_rate + Normalized_SAT_ACT*Tuition_Out_State + Tuition_Out_State*grad_rate + Normalized_SAT_ACT*grad_rate + C(cluster_labels_kmeans)', data=df_ipeds_private).fit() \n",
    "Private_POT_applied_gc = smf.ols(formula='POT_applied ~ Normalized_SAT_ACT + Tuition_Out_State + grad_rate+ C(cluster_labels_kmeans)', data=df_ipeds_private).fit() \n",
    "Public_interac_POT_applied_gc = smf.ols(formula='POT_applied ~ Normalized_SAT_ACT + Tuition_Out_State + grad_rate + Normalized_SAT_ACT*Tuition_Out_State + Tuition_Out_State*grad_rate + Normalized_SAT_ACT*grad_rate+ C(cluster_labels_kmeans)', data=df_ipeds_public).fit() \n",
    "Public_POT_applied_gc = smf.ols(formula='POT_applied ~ Normalized_SAT_ACT + Tuition_Out_State + grad_rate+ C(cluster_labels_kmeans)', data=df_ipeds_public).fit() \n",
    "Combine_POT_interac_applied_gc = smf.ols(formula='POT_applied ~ Normalized_SAT_ACT + Tuition_Revised + grad_rate + Normalized_SAT_ACT*Tuition_Revised + Tuition_Revised*grad_rate + Normalized_SAT_ACT*grad_rate+ C(cluster_labels_kmeans)', data=df_ipeds).fit() \n",
    "Combine_POT_applied_gc = smf.ols(formula='POT_applied ~ Normalized_SAT_ACT + Tuition_Revised + grad_rate+ C(cluster_labels_kmeans)', data=df_ipeds).fit() \n",
    "\n",
    "df_R2adj_POT_applied_gc = pd.DataFrame({'Model': ['Private_interac_POT_applied_gc', 'Private_POT_applied_gc', 'Public_interac_POT_applied_gc', \n",
    "                                          'Public_POT_applied_gc', 'Combine_POT_interac_applied_gc', 'Combine_POT_applied_gc',], \n",
    "                   'R2_Adjusted': [Private_interac_POT_applied_gc.rsquared_adj,Private_POT_applied_gc.rsquared_adj, \n",
    "                              Public_interac_POT_applied_gc.rsquared_adj, Public_POT_applied_gc.rsquared_adj, \n",
    "                              Combine_POT_interac_applied_gc.rsquared_adj, Combine_POT_applied_gc.rsquared_adj]})\n",
    "# df_R2adj_POT_applied_gc"
   ]
  },
  {
   "cell_type": "code",
   "execution_count": 130,
   "metadata": {},
   "outputs": [
    {
     "data": {
      "text/html": [
       "<div class='tableauPlaceholder' id='viz1550219662426' style='position: relative'><noscript><a href='#'><img alt=' ' src='https:&#47;&#47;public.tableau.com&#47;static&#47;images&#47;G2&#47;G2WW298WC&#47;1_rss.png' style='border: none' /></a></noscript><object class='tableauViz'  style='display:none;'><param name='host_url' value='https%3A%2F%2Fpublic.tableau.com%2F' /> <param name='embed_code_version' value='3' /> <param name='path' value='shared&#47;G2WW298WC' /> <param name='toolbar' value='yes' /><param name='static_image' value='https:&#47;&#47;public.tableau.com&#47;static&#47;images&#47;G2&#47;G2WW298WC&#47;1.png' /> <param name='animate_transition' value='yes' /><param name='display_static_image' value='yes' /><param name='display_spinner' value='yes' /><param name='display_overlay' value='yes' /><param name='display_count' value='yes' /><param name='filter' value='publish=yes' /></object></div>                <script type='text/javascript'>                    var divElement = document.getElementById('viz1550219662426');                    var vizElement = divElement.getElementsByTagName('object')[0];                    vizElement.style.width='100%';vizElement.style.height=(divElement.offsetWidth*0.75)+'px';                    var scriptElement = document.createElement('script');                    scriptElement.src = 'https://public.tableau.com/javascripts/api/viz_v1.js';                    vizElement.parentNode.insertBefore(scriptElement, vizElement);                </script>\n"
      ],
      "text/plain": [
       "<IPython.core.display.HTML object>"
      ]
     },
     "metadata": {},
     "output_type": "display_data"
    }
   ],
   "source": [
    "%%HTML\n",
    "<div class='tableauPlaceholder' id='viz1550219662426' style='position: relative'><noscript><a href='#'><img alt=' ' src='https:&#47;&#47;public.tableau.com&#47;static&#47;images&#47;G2&#47;G2WW298WC&#47;1_rss.png' style='border: none' /></a></noscript><object class='tableauViz'  style='display:none;'><param name='host_url' value='https%3A%2F%2Fpublic.tableau.com%2F' /> <param name='embed_code_version' value='3' /> <param name='path' value='shared&#47;G2WW298WC' /> <param name='toolbar' value='yes' /><param name='static_image' value='https:&#47;&#47;public.tableau.com&#47;static&#47;images&#47;G2&#47;G2WW298WC&#47;1.png' /> <param name='animate_transition' value='yes' /><param name='display_static_image' value='yes' /><param name='display_spinner' value='yes' /><param name='display_overlay' value='yes' /><param name='display_count' value='yes' /><param name='filter' value='publish=yes' /></object></div>                <script type='text/javascript'>                    var divElement = document.getElementById('viz1550219662426');                    var vizElement = divElement.getElementsByTagName('object')[0];                    vizElement.style.width='100%';vizElement.style.height=(divElement.offsetWidth*0.75)+'px';                    var scriptElement = document.createElement('script');                    scriptElement.src = 'https://public.tableau.com/javascripts/api/viz_v1.js';                    vizElement.parentNode.insertBefore(scriptElement, vizElement);                </script>"
   ]
  },
  {
   "cell_type": "markdown",
   "metadata": {},
   "source": [
    "\n",
    "*Limitation: The flaw of this data set was demonstrated in this analysis. The application/admission/enrollment data was not separated by in-state/out-of-state. \n",
    "\n",
    "None of the regression models deliver a high r2_adj values (highest 0.64). This indicates that more variables need to be explored. \n",
    "\n",
    "### I really feel the need to demonstrate this result to Chinese parents. Since thousands of years ago in China (and currently), the test score has ALWAYS been the SOLE deciding factor for college entrance.  These Chinese parents feel that they are being discriminated in the U.S. in the college entrance issue due to their race - maybe that's not the case. It's only due to culture difference and lack-of-communication. \n",
    "\n"
   ]
  },
  {
   "cell_type": "markdown",
   "metadata": {},
   "source": [
    "## Hidden Question: Mike's Question"
   ]
  },
  {
   "cell_type": "markdown",
   "metadata": {},
   "source": [
    "I choose not to present this question in the data story due to the time restriction. But I really want to do this analysis. There are always people who are lower than average. After all, the society is made up of normal distribution. If somebody is better than average, then there got to be somebody worse than average. Sometimes all those below-average personnel just need a chance - a chance to help them to move up. "
   ]
  },
  {
   "cell_type": "code",
   "execution_count": 131,
   "metadata": {
    "scrolled": true
   },
   "outputs": [
    {
     "data": {
      "text/html": [
       "<div class='tableauPlaceholder' id='viz1550220608608' style='position: relative'><noscript><a href='#'><img alt=' ' src='https:&#47;&#47;public.tableau.com&#47;static&#47;images&#47;45&#47;45TFFJF4M&#47;1_rss.png' style='border: none' /></a></noscript><object class='tableauViz'  style='display:none;'><param name='host_url' value='https%3A%2F%2Fpublic.tableau.com%2F' /> <param name='embed_code_version' value='3' /> <param name='path' value='shared&#47;45TFFJF4M' /> <param name='toolbar' value='yes' /><param name='static_image' value='https:&#47;&#47;public.tableau.com&#47;static&#47;images&#47;45&#47;45TFFJF4M&#47;1.png' /> <param name='animate_transition' value='yes' /><param name='display_static_image' value='yes' /><param name='display_spinner' value='yes' /><param name='display_overlay' value='yes' /><param name='display_count' value='yes' /><param name='filter' value='publish=yes' /></object></div>                <script type='text/javascript'>                    var divElement = document.getElementById('viz1550220608608');                    var vizElement = divElement.getElementsByTagName('object')[0];                    vizElement.style.width='100%';vizElement.style.height=(divElement.offsetWidth*0.75)+'px';                    var scriptElement = document.createElement('script');                    scriptElement.src = 'https://public.tableau.com/javascripts/api/viz_v1.js';                    vizElement.parentNode.insertBefore(scriptElement, vizElement);                </script>\n"
      ],
      "text/plain": [
       "<IPython.core.display.HTML object>"
      ]
     },
     "metadata": {},
     "output_type": "display_data"
    }
   ],
   "source": [
    "%%HTML\n",
    "<div class='tableauPlaceholder' id='viz1550220608608' style='position: relative'><noscript><a href='#'><img alt=' ' src='https:&#47;&#47;public.tableau.com&#47;static&#47;images&#47;45&#47;45TFFJF4M&#47;1_rss.png' style='border: none' /></a></noscript><object class='tableauViz'  style='display:none;'><param name='host_url' value='https%3A%2F%2Fpublic.tableau.com%2F' /> <param name='embed_code_version' value='3' /> <param name='path' value='shared&#47;45TFFJF4M' /> <param name='toolbar' value='yes' /><param name='static_image' value='https:&#47;&#47;public.tableau.com&#47;static&#47;images&#47;45&#47;45TFFJF4M&#47;1.png' /> <param name='animate_transition' value='yes' /><param name='display_static_image' value='yes' /><param name='display_spinner' value='yes' /><param name='display_overlay' value='yes' /><param name='display_count' value='yes' /><param name='filter' value='publish=yes' /></object></div>                <script type='text/javascript'>                    var divElement = document.getElementById('viz1550220608608');                    var vizElement = divElement.getElementsByTagName('object')[0];                    vizElement.style.width='100%';vizElement.style.height=(divElement.offsetWidth*0.75)+'px';                    var scriptElement = document.createElement('script');                    scriptElement.src = 'https://public.tableau.com/javascripts/api/viz_v1.js';                    vizElement.parentNode.insertBefore(scriptElement, vizElement);                </script>"
   ]
  },
  {
   "cell_type": "markdown",
   "metadata": {},
   "source": [
    "Above are a few colleges who fit the need for Mike. I hope students like Mike can take advantage of this analysis and move on well later in their life. "
   ]
  },
  {
   "cell_type": "markdown",
   "metadata": {},
   "source": [
    "# Conclusion"
   ]
  },
  {
   "cell_type": "markdown",
   "metadata": {},
   "source": [
    "#### Test score, tuition, cluster of colleges all play some roles in the college application/admission process. For top colleges, test score and tuition are very obvious factors. For the other three clusters, these variables' impacts are not that significant. \n",
    "\n",
    "#### It is also obvious that the above mentioned variables are not the sole deciding factors. Additional variables are required to include in this study to generate a final model. "
   ]
  },
  {
   "cell_type": "markdown",
   "metadata": {},
   "source": [
    "## Limitation"
   ]
  },
  {
   "cell_type": "markdown",
   "metadata": {},
   "source": [
    "This data set does not separate the admission/enrollment data by in-state/out-of-state, which is a very important factor. In-State student pays much lower tuition than out-of-state students in public school.  The regression model fit should be improved should such data become available. \n",
    "\n",
    "This data set does not contain any college ranking data. If this variable is available, there could be many new interesting analysis in each of the slides. \n",
    "\n"
   ]
  },
  {
   "cell_type": "markdown",
   "metadata": {},
   "source": [
    "# Thank you"
   ]
  },
  {
   "cell_type": "code",
   "execution_count": null,
   "metadata": {},
   "outputs": [],
   "source": []
  }
 ],
 "metadata": {
  "kernelspec": {
   "display_name": "Python 3",
   "language": "python",
   "name": "python3"
  },
  "language_info": {
   "codemirror_mode": {
    "name": "ipython",
    "version": 3
   },
   "file_extension": ".py",
   "mimetype": "text/x-python",
   "name": "python",
   "nbconvert_exporter": "python",
   "pygments_lexer": "ipython3",
   "version": "3.7.1"
  }
 },
 "nbformat": 4,
 "nbformat_minor": 2
}
